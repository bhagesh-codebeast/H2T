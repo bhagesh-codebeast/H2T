{
 "cells": [
  {
   "cell_type": "code",
   "execution_count": 10,
   "metadata": {},
   "outputs": [],
   "source": [
    "from pathlib import Path\n",
    "import os"
   ]
  },
  {
   "cell_type": "code",
   "execution_count": 11,
   "metadata": {},
   "outputs": [],
   "source": [
    "fdir = Path(\"./fonts/\")"
   ]
  },
  {
   "cell_type": "code",
   "execution_count": 12,
   "metadata": {},
   "outputs": [],
   "source": [
    "fdict = {\"a\":\"crop0\",\"b\":\"crop1\",\"c\":\"crop2\",\"d\":\"crop3\",\"e\":\"crop4\",\"f\":\"crop5\",\"g\":\"crop6\",\"h\":\"crop7\",\"i\":\"crop8\",\"j\":\"crop9\",\"k\":\"crop10\",\"l\":\"crop11\",\"m\":\"crop12\",\"n\":\"crop13\",\"o\":\"crop14\",\"p\":\"crop15\",\"q\":\"crop16\",\"r\":\"crop17\",\"s\":\"crop18\",\"t\":\"crop19\",\"u\":\"crop20\",\"v\":\"crop21\",\"w\":\"crop22\",\"x\":\"crop23\",\"y\":\"crop24\",\"z\":\"crop25\",\"A\":\"crop26\",\"B\":\"crop27\",\"C\":\"crop28\",\"D\":\"crop29\",\"E\":\"crop30\",\"F\":\"crop31\",\"G\":\"crop32\",\"H\":\"crop33\",\"I\":\"crop34\",\"J\":\"crop35\",\"K\":\"crop36\",\"L\":\"crop37\",\"M\":\"crop38\",\"N\":\"crop39\",\"O\":\"crop40\",\"P\":\"crop41\",\"Q\":\"crop42\",\"R\":\"crop43\",\"S\":\"crop44\",\"T\":\"crop45\",\"U\":\"crop46\",\"V\":\"crop47\",\"W\":\"crop48\",\"X\":\"crop49\",\"Y\":\"crop50\",\"Z\":\"crop51\",\"1\":\"crop52\",\"2\":\"crop53\",\"3\":\"crop54\",\"4\":\"crop55\",\"5\":\"crop56\",\"6\":\"crop57\",\"7\":\"crop58\",\"8\":\"crop59\",\"9\":\"crop60\",\"0\":\"crop61\"}"
   ]
  },
  {
   "cell_type": "code",
   "execution_count": 13,
   "metadata": {},
   "outputs": [
    {
     "name": "stdout",
     "output_type": "stream",
     "text": [
      "{'crop0.jpeg': 'a', 'crop1.jpeg': 'b', 'crop2.jpeg': 'c', 'crop3.jpeg': 'd', 'crop4.jpeg': 'e', 'crop5.jpeg': 'f', 'crop6.jpeg': 'g', 'crop7.jpeg': 'h', 'crop8.jpeg': 'i', 'crop9.jpeg': 'j', 'crop10.jpeg': 'k', 'crop11.jpeg': 'l', 'crop12.jpeg': 'm', 'crop13.jpeg': 'n', 'crop14.jpeg': 'o', 'crop15.jpeg': 'p', 'crop16.jpeg': 'q', 'crop17.jpeg': 'r', 'crop18.jpeg': 's', 'crop19.jpeg': 't', 'crop20.jpeg': 'u', 'crop21.jpeg': 'v', 'crop22.jpeg': 'w', 'crop23.jpeg': 'x', 'crop24.jpeg': 'y', 'crop25.jpeg': 'z', 'crop26.jpeg': 'A', 'crop27.jpeg': 'B', 'crop28.jpeg': 'C', 'crop29.jpeg': 'D', 'crop30.jpeg': 'E', 'crop31.jpeg': 'F', 'crop32.jpeg': 'G', 'crop33.jpeg': 'H', 'crop34.jpeg': 'I', 'crop35.jpeg': 'J', 'crop36.jpeg': 'K', 'crop37.jpeg': 'L', 'crop38.jpeg': 'M', 'crop39.jpeg': 'N', 'crop40.jpeg': 'O', 'crop41.jpeg': 'P', 'crop42.jpeg': 'Q', 'crop43.jpeg': 'R', 'crop44.jpeg': 'S', 'crop45.jpeg': 'T', 'crop46.jpeg': 'U', 'crop47.jpeg': 'V', 'crop48.jpeg': 'W', 'crop49.jpeg': 'X', 'crop50.jpeg': 'Y', 'crop51.jpeg': 'Z', 'crop52.jpeg': '1', 'crop53.jpeg': '2', 'crop54.jpeg': '3', 'crop55.jpeg': '4', 'crop56.jpeg': '5', 'crop57.jpeg': '6', 'crop58.jpeg': '7', 'crop59.jpeg': '8', 'crop60.jpeg': '9', 'crop61.jpeg': '0'}\n"
     ]
    }
   ],
   "source": [
    "new_fdict={}\n",
    "\n",
    "for key, value in fdict.items():\n",
    "    if value in new_fdict:\n",
    "        new_fdict[value].append(key)\n",
    "    else:\n",
    "        new_fdict[value+\".jpeg\"] = key\n",
    "print(new_fdict)"
   ]
  },
  {
   "cell_type": "code",
   "execution_count": 14,
   "metadata": {},
   "outputs": [
    {
     "name": "stdout",
     "output_type": "stream",
     "text": [
      "['crop0.png', 'crop1.png', 'crop10.png', 'crop11.png', 'crop12.png', 'crop13.png', 'crop14.png', 'crop15.png', 'crop16.png', 'crop17.png', 'crop18.png', 'crop19.png', 'crop2.png', 'crop20.png', 'crop21.png', 'crop22.png', 'crop23.png', 'crop24.png', 'crop25.png', 'crop26.png', 'crop27.png', 'crop28.png', 'crop29.png', 'crop3.png', 'crop30.png', 'crop31.png', 'crop32.png', 'crop33.png', 'crop34.png', 'crop35.png', 'crop36.png', 'crop37.png', 'crop38.png', 'crop39.png', 'crop4.png', 'crop40.png', 'crop41.png', 'crop42.png', 'crop43.png', 'crop44.png', 'crop45.png', 'crop46.png', 'crop47.png', 'crop48.png', 'crop49.png', 'crop5.png', 'crop50.png', 'crop51.png', 'crop52.png', 'crop53.png', 'crop54.png', 'crop55.png', 'crop56.png', 'crop57.png', 'crop58.png', 'crop59.png', 'crop6.png', 'crop60.png', 'crop61.png', 'crop62.png', 'crop63.png', 'crop64.png', 'crop65.png', 'crop66.png', 'crop67.png', 'crop68.png', 'crop69.png', 'crop7.png', 'crop70.png', 'crop71.png', 'crop72.png', 'crop73.png', 'crop74.png', 'crop75.png', 'crop76.png', 'crop77.png', 'crop78.png', 'crop79.png', 'crop8.png', 'crop80.png', 'crop81.png', 'crop82.png', 'crop83.png', 'crop84.png', 'crop85.png', 'crop86.png', 'crop87.png', 'crop88.png', 'crop9.png']\n"
     ]
    }
   ],
   "source": [
    "flist = []\n",
    "obj = os.scandir(fdir)\n",
    "for img in obj:\n",
    "    if img.is_file():\n",
    "       flist.append(img.name)\n",
    "print(flist)"
   ]
  },
  {
   "cell_type": "code",
   "execution_count": 15,
   "metadata": {},
   "outputs": [],
   "source": [
    "#i = \"crop26.jpeg\"\n",
    "#destlist = new_fdict.get(i)\n",
    "#print(destlist)"
   ]
  },
  {
   "cell_type": "code",
   "execution_count": 16,
   "metadata": {},
   "outputs": [],
   "source": [
    "i=0"
   ]
  },
  {
   "cell_type": "code",
   "execution_count": 18,
   "metadata": {},
   "outputs": [],
   "source": [
    "for k,v in new_fdict.items():\n",
    "    for i in range(len(flist)):\n",
    "        if flist[i]==k:\n",
    "            print(k)\n",
    "#             try:\n",
    "#                 os.rename(os.path.join(fdir,flist[i]), os.path.join(fdir, new_fdict.get(k)+'.jpeg')) \n",
    "#                 i+=1\n",
    "#             except:\n",
    "#                 continue      \n",
    "                "
   ]
  },
  {
   "cell_type": "code",
   "execution_count": null,
   "metadata": {},
   "outputs": [],
   "source": []
  }
 ],
 "metadata": {
  "interpreter": {
   "hash": "747f58c78fe690d50de4c882e1674f1e67e0d08415fa5f575bf1710a45217e99"
  },
  "kernelspec": {
   "display_name": "Python 3",
   "language": "python",
   "name": "python3"
  },
  "language_info": {
   "codemirror_mode": {
    "name": "ipython",
    "version": 3
   },
   "file_extension": ".py",
   "mimetype": "text/x-python",
   "name": "python",
   "nbconvert_exporter": "python",
   "pygments_lexer": "ipython3",
   "version": "3.8.10"
  }
 },
 "nbformat": 4,
 "nbformat_minor": 2
}
