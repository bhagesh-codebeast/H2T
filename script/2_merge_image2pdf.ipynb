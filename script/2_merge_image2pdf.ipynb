{
 "cells": [
  {
   "cell_type": "markdown",
   "id": "c6a48b4a",
   "metadata": {},
   "source": [
    "# Merge cropped images into pdf"
   ]
  },
  {
   "cell_type": "markdown",
   "id": "5f3f578f",
   "metadata": {},
   "source": [
    "### Rename images & move to folders"
   ]
  },
  {
   "cell_type": "code",
   "execution_count": 1,
   "id": "114d4096",
   "metadata": {},
   "outputs": [],
   "source": [
    "from pathlib import Path"
   ]
  },
  {
   "cell_type": "code",
   "execution_count": 2,
   "id": "6039f85f",
   "metadata": {},
   "outputs": [],
   "source": [
    "fdir = Path(\"./fonts/\")\n",
    "flist = []\n",
    "upper = []\n",
    "lower = []\n",
    "number = []\n",
    "other = []"
   ]
  },
  {
   "cell_type": "code",
   "execution_count": 3,
   "id": "67c091fa",
   "metadata": {},
   "outputs": [],
   "source": [
    "alpha_lower = {\"a\":0,\"b\":1,\"c\":2,\"d\":3,\"e\":4,\"f\":5,\"g\":6,\"h\":7,\"i\":8,\"j\":9,\"k\":10,\"l\":11,\"m\":12,\"n\":13,\"o\":14,\"p\":15,\"q\":16,\"r\":17,\"s\":18,\"t\":19,\"u\":20,\"v\":21,\"w\":22,\"x\":23,\"y\":24,\"z\":25}\n",
    "alpha_upper = {\"A\":26,\"B\":27,\"C\":28,\"D\":29,\"E\":30,\"F\":31,\"G\":32,\"H\":33,\"I\":34,\"J\":35,\"K\":36,\"L\":37,\"M\":38,\"N\":39,\"O\":40,\"P\":41,\"Q\":42,\"R\":43,\"S\":44,\"T\":45,\"U\":46,\"V\":47,\"W\":48,\"X\":49,\"Y\":50,\"Z\":51}\n",
    "numerical = {1:52,2:53,3:54,4:55,5:56,6:57,7:58,8:59,9:60,0:61}\n",
    "# characters = {\"\":,}"
   ]
  },
  {
   "cell_type": "code",
   "execution_count": 4,
   "id": "cd574fd0",
   "metadata": {},
   "outputs": [],
   "source": [
    "for file in fdir.iterdir():\n",
    "    flist.append(int(str(file.stem)[4:]))\n",
    "    for num in flist :\n",
    "        if num < 26:\n",
    "            if num not in lower:\n",
    "                lower.append(num)\n",
    "        elif num >= 26 and num <52:\n",
    "            if num not in upper:\n",
    "                upper.append(num)\n",
    "        elif num >= 52 and num <62:\n",
    "            if num not in number:\n",
    "                number.append(num)\n",
    "        else:\n",
    "            if num not in other:\n",
    "                other.append(num)"
   ]
  },
  {
   "cell_type": "code",
   "execution_count": 8,
   "id": "cf1f7309",
   "metadata": {},
   "outputs": [
    {
     "name": "stdout",
     "output_type": "stream",
     "text": [
      "a\n",
      "b\n",
      "c\n",
      "d\n",
      "e\n",
      "f\n",
      "g\n",
      "h\n",
      "i\n",
      "j\n",
      "k\n",
      "l\n",
      "m\n",
      "n\n",
      "o\n",
      "p\n",
      "q\n",
      "r\n",
      "s\n",
      "t\n",
      "u\n",
      "v\n",
      "w\n",
      "x\n",
      "y\n",
      "z\n"
     ]
    }
   ],
   "source": [
    "# for key,value in alpha_lower.items():\n",
    "#     print(key)"
   ]
  },
  {
   "cell_type": "code",
   "execution_count": 7,
   "id": "3506d1ff",
   "metadata": {},
   "outputs": [
    {
     "name": "stdout",
     "output_type": "stream",
     "text": [
      "0\n",
      "1\n",
      "10\n",
      "11\n",
      "12\n",
      "13\n",
      "14\n",
      "15\n",
      "16\n",
      "17\n",
      "18\n",
      "19\n",
      "2\n",
      "20\n",
      "21\n",
      "22\n",
      "23\n",
      "24\n",
      "25\n",
      "26\n",
      "27\n",
      "28\n",
      "29\n",
      "3\n",
      "30\n",
      "31\n",
      "32\n",
      "33\n",
      "34\n",
      "35\n",
      "36\n",
      "37\n",
      "38\n",
      "39\n",
      "4\n",
      "40\n",
      "41\n",
      "42\n",
      "43\n",
      "44\n",
      "45\n",
      "46\n",
      "47\n",
      "48\n",
      "49\n",
      "5\n",
      "50\n",
      "51\n",
      "52\n",
      "53\n",
      "54\n",
      "55\n",
      "56\n",
      "57\n",
      "58\n",
      "59\n",
      "6\n",
      "60\n",
      "61\n",
      "62\n",
      "63\n",
      "64\n",
      "65\n",
      "66\n",
      "67\n",
      "68\n",
      "69\n",
      "7\n",
      "70\n",
      "71\n",
      "72\n",
      "73\n",
      "74\n",
      "75\n",
      "76\n",
      "77\n",
      "78\n",
      "79\n",
      "8\n",
      "80\n",
      "81\n",
      "82\n",
      "83\n",
      "84\n",
      "85\n",
      "86\n",
      "87\n",
      "88\n",
      "9\n"
     ]
    }
   ],
   "source": [
    "# for file in fdir.iterdir():\n",
    "#     print(int(str(file.stem)[4:]))"
   ]
  },
  {
   "cell_type": "code",
   "execution_count": null,
   "id": "5fefde60",
   "metadata": {},
   "outputs": [],
   "source": []
  }
 ],
 "metadata": {
  "kernelspec": {
   "display_name": "Python 3",
   "language": "python",
   "name": "python3"
  },
  "language_info": {
   "codemirror_mode": {
    "name": "ipython",
    "version": 3
   },
   "file_extension": ".py",
   "mimetype": "text/x-python",
   "name": "python",
   "nbconvert_exporter": "python",
   "pygments_lexer": "ipython3",
   "version": "3.8.10"
  }
 },
 "nbformat": 4,
 "nbformat_minor": 5
}
