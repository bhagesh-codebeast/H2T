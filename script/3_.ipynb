{
 "cells": [
  {
   "cell_type": "markdown",
   "id": "9496dbfb",
   "metadata": {},
   "source": [
    "# Cleaning data"
   ]
  },
  {
   "cell_type": "code",
   "execution_count": 1,
   "id": "251285a5",
   "metadata": {},
   "outputs": [],
   "source": [
    "import os"
   ]
  },
  {
   "cell_type": "code",
   "execution_count": 2,
   "id": "615a8eb0",
   "metadata": {},
   "outputs": [],
   "source": [
    "allowedletters = '''ABCDEFGHIJKLMNOPQRSTUVWXYZabcdefghijklmnopqrstuvwxyz#:,.?-!()[]'<>=%^$@_;1234567890\"'''"
   ]
  },
  {
   "cell_type": "code",
   "execution_count": 3,
   "id": "1389a2b8",
   "metadata": {},
   "outputs": [],
   "source": [
    "root = \"./Fonts\""
   ]
  },
  {
   "cell_type": "code",
   "execution_count": null,
   "id": "3dc43843",
   "metadata": {},
   "outputs": [],
   "source": []
  }
 ],
 "metadata": {
  "kernelspec": {
   "display_name": "Python 3",
   "language": "python",
   "name": "python3"
  },
  "language_info": {
   "codemirror_mode": {
    "name": "ipython",
    "version": 3
   },
   "file_extension": ".py",
   "mimetype": "text/x-python",
   "name": "python",
   "nbconvert_exporter": "python",
   "pygments_lexer": "ipython3",
   "version": "3.8.10"
  }
 },
 "nbformat": 4,
 "nbformat_minor": 5
}
