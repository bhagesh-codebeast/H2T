{
 "cells": [
  {
   "cell_type": "markdown",
   "id": "c7893d9c",
   "metadata": {},
   "source": [
    "# Crop input image into seperate letters"
   ]
  },
  {
   "cell_type": "markdown",
   "id": "4905a569",
   "metadata": {},
   "source": [
    "### Import Modules"
   ]
  },
  {
   "cell_type": "code",
   "execution_count": 1,
   "id": "360e94ae",
   "metadata": {},
   "outputs": [],
   "source": [
    "import cv2\n",
    "import numpy as np\n",
    "import imutils"
   ]
  },
  {
   "cell_type": "code",
   "execution_count": 2,
   "id": "66087094",
   "metadata": {},
   "outputs": [],
   "source": [
    "# Load image data\n",
    "img = cv2.imread('data/2.jpg', -1)\n",
    "\n",
    "rgb_planes = cv2.split(img)\n",
    "\n",
    "result_planes = []\n",
    "result_norm_planes = []\n",
    "\n",
    "# Remove shadows\n",
    "for plane in rgb_planes:\n",
    "    dilated_img = cv2.dilate(plane, np.ones((7,7), np.uint8))\n",
    "    bg_img = cv2.medianBlur(dilated_img, 21)\n",
    "    diff_img = 255 - cv2.absdiff(plane, bg_img)\n",
    "    norm_img = cv2.normalize(diff_img,None, alpha=0, beta=255, norm_type=cv2.NORM_MINMAX, dtype=cv2.CV_8UC1)\n",
    "#     result_planes.append(diff_img)\n",
    "    result_norm_planes.append(norm_img)\n",
    "\n",
    "# result = cv2.merge(result_planes)\n",
    "result_norm_planes_image = cv2.merge(result_norm_planes)\n",
    "\n",
    "image = imutils.resize(result_norm_planes_image, height=800)#width=800,\n",
    "\n",
    "# Increase brightness\n",
    "# hsv = cv2.cvtColor(image, cv2.COLOR_BGR2HSV)\n",
    "# hsv[:,:,2] += 30\n",
    "# image = cv2.cvtColor(hsv, cv2.COLOR_HSV2BGR)\n",
    "\n",
    "# make a copy\n",
    "original = image.copy()\n",
    "\n",
    "#convert to grayscale\n",
    "gray = cv2.cvtColor(image, cv2.COLOR_BGR2GRAY)\n",
    "\n",
    "#parameters for threshold\n",
    "thresholdValue = 0\n",
    "maxVal = 255\n",
    "thresholdingTechnique = cv2.THRESH_OTSU + cv2.THRESH_BINARY\n",
    "thresh = cv2.threshold(gray,thresholdValue,maxVal,thresholdingTechnique)[1]\n",
    "\n",
    "# Selecting ROIs\n",
    "ROIs = cv2.selectROIs(\"Select Rois\",original)\n",
    "cv2.destroyAllWindows()"
   ]
  },
  {
   "cell_type": "code",
   "execution_count": 3,
   "id": "ef48abc7",
   "metadata": {},
   "outputs": [],
   "source": [
    "crop_number=0\n",
    "\n",
    "#loop over every bounding box save in array \"ROIs\"\n",
    "# for rect in ROIs:\n",
    "for rect in ROIs:\n",
    "    x1=rect[0]\n",
    "    y1=rect[1]\n",
    "    x2=rect[2]\n",
    "    y2=rect[3]\n",
    "\n",
    "    #crop roi from original image\n",
    "    img_crop=thresh[y1:y1+y2,x1:x1+x2]\n",
    "\n",
    "    #save cropped image\n",
    "    cv2.imwrite(\"crop\"+str(crop_number)+\".jpeg\",img_crop)\n",
    "    crop_number+=1\n",
    "\n",
    "cv2.waitKey(0)\n",
    "cv2.destroyAllWindows()"
   ]
  },
  {
   "cell_type": "code",
   "execution_count": null,
   "id": "24f7089d",
   "metadata": {},
   "outputs": [],
   "source": []
  }
 ],
 "metadata": {
  "kernelspec": {
   "display_name": "Python 3",
   "language": "python",
   "name": "python3"
  },
  "language_info": {
   "codemirror_mode": {
    "name": "ipython",
    "version": 3
   },
   "file_extension": ".py",
   "mimetype": "text/x-python",
   "name": "python",
   "nbconvert_exporter": "python",
   "pygments_lexer": "ipython3",
   "version": "3.8.10"
  }
 },
 "nbformat": 4,
 "nbformat_minor": 5
}
