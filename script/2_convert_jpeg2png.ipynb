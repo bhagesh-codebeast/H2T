{
 "cells": [
  {
   "cell_type": "markdown",
   "id": "8fb8ffc6",
   "metadata": {},
   "source": [
    "# Convert Jpeg to png"
   ]
  },
  {
   "cell_type": "code",
   "execution_count": 31,
   "id": "475e4b66",
   "metadata": {},
   "outputs": [],
   "source": [
    "from glob import glob  \n",
    "import os\n",
    "import cv2 "
   ]
  },
  {
   "cell_type": "code",
   "execution_count": 32,
   "id": "325195db",
   "metadata": {},
   "outputs": [],
   "source": [
    "jpegs = glob('./fonts/*.jpeg')\n",
    "folder_path = (r'./fonts/')\n",
    "test = os.listdir(folder_path)"
   ]
  },
  {
   "cell_type": "code",
   "execution_count": 33,
   "id": "9c308d27",
   "metadata": {},
   "outputs": [],
   "source": [
    "for j in jpegs:\n",
    "    img = cv2.imread(j)\n",
    "    cv2.imwrite(j[:-4] + 'png', img)"
   ]
  },
  {
   "cell_type": "code",
   "execution_count": 34,
   "id": "ad341110",
   "metadata": {},
   "outputs": [],
   "source": [
    "for images in test:\n",
    "    if images.endswith(\".jpeg\"):\n",
    "        os.remove(os.path.join(folder_path, images))"
   ]
  },
  {
   "cell_type": "code",
   "execution_count": null,
   "id": "c451f812",
   "metadata": {},
   "outputs": [],
   "source": []
  }
 ],
 "metadata": {
  "kernelspec": {
   "display_name": "Python 3",
   "language": "python",
   "name": "python3"
  },
  "language_info": {
   "codemirror_mode": {
    "name": "ipython",
    "version": 3
   },
   "file_extension": ".py",
   "mimetype": "text/x-python",
   "name": "python",
   "nbconvert_exporter": "python",
   "pygments_lexer": "ipython3",
   "version": "3.8.10"
  }
 },
 "nbformat": 4,
 "nbformat_minor": 5
}
